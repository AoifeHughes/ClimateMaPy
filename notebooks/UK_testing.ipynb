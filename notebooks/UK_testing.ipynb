{
 "cells": [
  {
   "cell_type": "code",
   "execution_count": 2,
   "metadata": {},
   "outputs": [
    {
     "name": "stdout",
     "output_type": "stream",
     "text": [
      "Collecting geojson_rewind\n",
      "  Downloading geojson_rewind-1.0.2-py3-none-any.whl (4.9 kB)\n",
      "Installing collected packages: geojson-rewind\n",
      "Successfully installed geojson-rewind-1.0.2\n"
     ]
    }
   ],
   "source": [
    "!pip install geojson_rewind"
   ]
  },
  {
   "cell_type": "code",
   "execution_count": 5,
   "metadata": {},
   "outputs": [],
   "source": [
    "import pandas as pd\n",
    "import json\n",
    "from urllib.request import urlopen\n",
    "import numpy as np\n",
    "\n",
    "#Load GeoJson \n",
    "with urlopen('https://opendata.arcgis.com/datasets/48b6b85bb7ea43699ee85f4ecd12fd36_4.geojson') as response:\n",
    "    counties = json.load(response)\n",
    " \n",
    "#Load data to be charted    \n",
    "dummy_data=pd.read_csv('https://opendata.arcgis.com/datasets/48b6b85bb7ea43699ee85f4ecd12fd36_0.csv?outSR=%7B%22latestWkid%22%3A27700%2C%22wkid%22%3A27700%7D')\n",
    "#add dummy data\n",
    "dummy_data['value']=np.random.randint(10, 100, size=len(dummy_data))\n",
    "\n",
    "#With Plotly\n",
    "import plotly.express as px\n",
    "from geojson_rewind import rewind\n",
    "\n",
    "#Make the rings clockwwise (to make it compatible with plotly)    \n",
    "counties_corrected=rewind(counties,rfc7946=False)\n",
    "\n",
    "fig = px.choropleth(dummy_data, geojson=counties_corrected, locations='nuts218cd', featureidkey=\"properties.nuts218cd\", color='value',\n",
    "                            color_continuous_scale=\"speed\", labels={'label name':'label name'}, title='UK',\n",
    "                            scope=\"europe\")\n",
    "\n",
    "fig.update_geos(fitbounds=\"locations\", visible=False)\n",
    "fig.write_html(\"../plots/UK_example_random_data.html\")"
   ]
  }
 ],
 "metadata": {
  "interpreter": {
   "hash": "34a14ef8f0cd855d58e8212be7f174a1f19c242850106a641e0cdfcb07823678"
  },
  "kernelspec": {
   "display_name": "Python 3.9.5 64-bit (conda)",
   "language": "python",
   "name": "python3"
  },
  "language_info": {
   "codemirror_mode": {
    "name": "ipython",
    "version": 3
   },
   "file_extension": ".py",
   "mimetype": "text/x-python",
   "name": "python",
   "nbconvert_exporter": "python",
   "pygments_lexer": "ipython3",
   "version": "3.9.5"
  },
  "orig_nbformat": 4
 },
 "nbformat": 4,
 "nbformat_minor": 2
}
